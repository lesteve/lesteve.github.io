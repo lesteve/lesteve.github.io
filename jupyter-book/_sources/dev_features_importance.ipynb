{
 "cells": [
  {
   "cell_type": "markdown",
   "metadata": {},
   "source": [
    "# Feature importance\n",
    "\n",
    "In this notebook, we will detail methods to investigate the importance of\n",
    "features used by a given model. We will look at:\n",
    "\n",
    "1. interpreting the coefficients in a linear model;\n",
    "2. the attribute `feature_importances_` in RandomForrest;\n",
    "3. `permutation feature importance`, which is an inspection technique that\n",
    "   can be used for any fitted model."
   ]
  },
  {
   "cell_type": "markdown",
   "metadata": {},
   "source": [
    "## 0. Presentation of the dataset"
   ]
  },
  {
   "cell_type": "markdown",
   "metadata": {},
   "source": [
    "This dataset is a record of neighborhoods in California district, predicting\n",
    "the **median house value** (target) given some information about the\n",
    "neighborhoods, as the average number of rooms, the latitude, the longitude or\n",
    "the median income of people in the neighborhoods (block)."
   ]
  },
  {
   "cell_type": "code",
   "execution_count": 1,
   "metadata": {},
   "outputs": [
    {
     "data": {
      "text/html": [
       "<div>\n",
       "<style scoped>\n",
       "    .dataframe tbody tr th:only-of-type {\n",
       "        vertical-align: middle;\n",
       "    }\n",
       "\n",
       "    .dataframe tbody tr th {\n",
       "        vertical-align: top;\n",
       "    }\n",
       "\n",
       "    .dataframe thead th {\n",
       "        text-align: right;\n",
       "    }\n",
       "</style>\n",
       "<table border=\"1\" class=\"dataframe\">\n",
       "  <thead>\n",
       "    <tr style=\"text-align: right;\">\n",
       "      <th></th>\n",
       "      <th>MedInc</th>\n",
       "      <th>HouseAge</th>\n",
       "      <th>AveRooms</th>\n",
       "      <th>AveBedrms</th>\n",
       "      <th>Population</th>\n",
       "      <th>AveOccup</th>\n",
       "      <th>Latitude</th>\n",
       "      <th>Longitude</th>\n",
       "    </tr>\n",
       "  </thead>\n",
       "  <tbody>\n",
       "    <tr>\n",
       "      <td>0</td>\n",
       "      <td>8.3252</td>\n",
       "      <td>41.0</td>\n",
       "      <td>6.984127</td>\n",
       "      <td>1.023810</td>\n",
       "      <td>322.0</td>\n",
       "      <td>2.555556</td>\n",
       "      <td>37.88</td>\n",
       "      <td>-122.23</td>\n",
       "    </tr>\n",
       "    <tr>\n",
       "      <td>1</td>\n",
       "      <td>8.3014</td>\n",
       "      <td>21.0</td>\n",
       "      <td>6.238137</td>\n",
       "      <td>0.971880</td>\n",
       "      <td>2401.0</td>\n",
       "      <td>2.109842</td>\n",
       "      <td>37.86</td>\n",
       "      <td>-122.22</td>\n",
       "    </tr>\n",
       "    <tr>\n",
       "      <td>2</td>\n",
       "      <td>7.2574</td>\n",
       "      <td>52.0</td>\n",
       "      <td>8.288136</td>\n",
       "      <td>1.073446</td>\n",
       "      <td>496.0</td>\n",
       "      <td>2.802260</td>\n",
       "      <td>37.85</td>\n",
       "      <td>-122.24</td>\n",
       "    </tr>\n",
       "    <tr>\n",
       "      <td>3</td>\n",
       "      <td>5.6431</td>\n",
       "      <td>52.0</td>\n",
       "      <td>5.817352</td>\n",
       "      <td>1.073059</td>\n",
       "      <td>558.0</td>\n",
       "      <td>2.547945</td>\n",
       "      <td>37.85</td>\n",
       "      <td>-122.25</td>\n",
       "    </tr>\n",
       "    <tr>\n",
       "      <td>4</td>\n",
       "      <td>3.8462</td>\n",
       "      <td>52.0</td>\n",
       "      <td>6.281853</td>\n",
       "      <td>1.081081</td>\n",
       "      <td>565.0</td>\n",
       "      <td>2.181467</td>\n",
       "      <td>37.85</td>\n",
       "      <td>-122.25</td>\n",
       "    </tr>\n",
       "  </tbody>\n",
       "</table>\n",
       "</div>"
      ],
      "text/plain": [
       "   MedInc  HouseAge  AveRooms  AveBedrms  Population  AveOccup  Latitude  \\\n",
       "0  8.3252      41.0  6.984127   1.023810       322.0  2.555556     37.88   \n",
       "1  8.3014      21.0  6.238137   0.971880      2401.0  2.109842     37.86   \n",
       "2  7.2574      52.0  8.288136   1.073446       496.0  2.802260     37.85   \n",
       "3  5.6431      52.0  5.817352   1.073059       558.0  2.547945     37.85   \n",
       "4  3.8462      52.0  6.281853   1.081081       565.0  2.181467     37.85   \n",
       "\n",
       "   Longitude  \n",
       "0    -122.23  \n",
       "1    -122.22  \n",
       "2    -122.24  \n",
       "3    -122.25  \n",
       "4    -122.25  "
      ]
     },
     "execution_count": 1,
     "metadata": {},
     "output_type": "execute_result"
    }
   ],
   "source": [
    "from sklearn.datasets import fetch_california_housing\n",
    "import pandas as pd\n",
    "\n",
    "X, y = fetch_california_housing(as_frame=True, return_X_y=True)\n",
    "X.head()"
   ]
  },
  {
   "cell_type": "markdown",
   "metadata": {},
   "source": [
    "The feature reads as follow:\n",
    "- MedInc median income in block\n",
    "- HouseAge median house age in block\n",
    "- AveRooms average number of rooms\n",
    "- AveBedrms average number of bedrooms\n",
    "- Population block population\n",
    "- AveOccup average house occupancy\n",
    "- Latitude house block latitude\n",
    "- Longitude house block longitude\n",
    "- MedHouseVal Median house value in 100k$ *(target)*"
   ]
  },
  {
   "cell_type": "markdown",
   "metadata": {},
   "source": [
    "To assert the quality of our inspection technique, let's add some random\n",
    "feature that won't help the prediction (un-informative feature)"
   ]
  },
  {
   "cell_type": "code",
   "execution_count": 2,
   "metadata": {},
   "outputs": [],
   "source": [
    "import numpy as np\n",
    "\n",
    "# Adding random features\n",
    "rng = np.random.RandomState(0)\n",
    "bin_var = pd.Series(rng.randint(0, 1, X.shape[0]), name='rnd_bin')\n",
    "num_var = pd.Series(np.arange(X.shape[0]), name='rnd_num')\n",
    "X_with_rnd_feat = pd.concat((X, bin_var, num_var), axis=1)"
   ]
  },
  {
   "cell_type": "markdown",
   "metadata": {},
   "source": [
    "We will split the data into training and testing for the remaining part of\n",
    "this notebook"
   ]
  },
  {
   "cell_type": "code",
   "execution_count": 3,
   "metadata": {},
   "outputs": [],
   "source": [
    "from sklearn.model_selection import train_test_split\n",
    "X_train, X_test, y_train, y_test = train_test_split(X_with_rnd_feat, y,\n",
    "                                                    random_state=29)"
   ]
  },
  {
   "cell_type": "markdown",
   "metadata": {},
   "source": [
    "Let's quickly inspect some features and the target"
   ]
  },
  {
   "cell_type": "code",
   "execution_count": 4,
   "metadata": {},
   "outputs": [],
   "source": [
    "import seaborn as sns\n",
    "\n",
    "train_dataset = X_train.copy()\n",
    "train_dataset.insert(0, \"MedHouseVal\", y_train)\n",
    "_ = sns.pairplot(\n",
    "    train_dataset[['MedHouseVal', 'Latitude', 'AveRooms', 'MedInc']],\n",
    "    kind='reg', diag_kind='kde', plot_kws={'scatter_kws': {'alpha': 0.1}})"
   ]
  },
  {
   "cell_type": "markdown",
   "metadata": {},
   "source": [
    "We see in the upper right plot that the median income seems to be positively\n",
    "correlated to the median house price (the target)."
   ]
  },
  {
   "cell_type": "markdown",
   "metadata": {},
   "source": [
    "## 1. Linear model inspection"
   ]
  },
  {
   "cell_type": "markdown",
   "metadata": {},
   "source": [
    "In linear models, the target value is modeled as a linear combination of the\n",
    "features\n",
    "\n",
    "Coefficients represent the relationship between the given feature $X_i$ and\n",
    "the target $y$, assuming that all the other features remain constant\n",
    "(conditional dependence). This is different from plotting $X_i$ versus $y$\n",
    "and fitting a linear relationship: in that case all possible values of the\n",
    "other features are taken into account in the estimation (marginal\n",
    "dependence)."
   ]
  },
  {
   "cell_type": "code",
   "execution_count": 5,
   "metadata": {},
   "outputs": [
    {
     "name": "stdout",
     "output_type": "stream",
     "text": [
      "model score on training data: 0.6079742666388219\n",
      "model score on testing data: 0.6021994461821603\n"
     ]
    }
   ],
   "source": [
    "from sklearn.linear_model import RidgeCV\n",
    "\n",
    "model = RidgeCV()\n",
    "\n",
    "model.fit(X_train, y_train)\n",
    "\n",
    "print(f'model score on training data: {model.score(X_train, y_train)}')\n",
    "print(f'model score on testing data: {model.score(X_test, y_test)}')"
   ]
  },
  {
   "cell_type": "markdown",
   "metadata": {},
   "source": [
    "Our linear model obtains a $R^2$ score of .60, so it explains a significant\n",
    "part of the target. Its coefficient should be somehow relevant. Let's look at\n",
    "the coefficient learnt"
   ]
  },
  {
   "cell_type": "code",
   "execution_count": 6,
   "metadata": {},
   "outputs": [
    {
     "data": {
      "image/png": "[encoded data removed]",
      "text/plain": [
       "<Figure size 648x504 with 1 Axes>"
      ]
     },
     "metadata": {
      "filenames": {
       "image/png": "/home/lesteve/dev/scikit-learn-mooc/jupyter-book/_build/jupyter_execute/dev_features_importance_16_0.png"
      },
      "needs_background": "light"
     },
     "output_type": "display_data"
    }
   ],
   "source": [
    "import matplotlib.pyplot as plt\n",
    "\n",
    "coefs = pd.DataFrame(\n",
    "   model.coef_,\n",
    "   columns=['Coefficients'], index=X_train.columns\n",
    ")\n",
    "\n",
    "coefs.plot(kind='barh', figsize=(9, 7))\n",
    "plt.title('Ridge model')\n",
    "plt.axvline(x=0, color='.5')\n",
    "plt.subplots_adjust(left=.3)"
   ]
  },
  {
   "cell_type": "markdown",
   "metadata": {},
   "source": [
    "The `AveBedrms` have the higher coefficient. However, we can't compare the\n",
    "magnitude of these coefficients directly, since they are not scaled. Indeed,\n",
    "`Population` is an integer which can be thousands, while `AveBedrms` is\n",
    "around 4 and Latitude is in degree.\n",
    "\n",
    "So the Population coefficient is expressed in \"$100k\\$$ / habitant\" while the\n",
    "AveBedrms is expressed in \"$100k\\$$ / nb of bedrooms\" and the Latitude\n",
    "coefficient in \"$100k\\$$ / degree\".\n",
    "\n",
    "We see that changing population by one does not change the outcome, while as\n",
    "we go south (latitude increase) the price becomes cheaper. Also, adding a\n",
    "bedroom (keeping all other feature constant) shall rise the price of the\n",
    "house by 80k$."
   ]
  },
  {
   "cell_type": "markdown",
   "metadata": {},
   "source": [
    "So looking at the coefficient plot to gauge feature importance can be\n",
    "misleading as some of them vary on a small scale, while others vary a lot\n",
    "more, several decades.\n",
    "\n",
    "This becomes visible if we compare the standard deviations of our different\n",
    "features."
   ]
  },
  {
   "cell_type": "code",
   "execution_count": 7,
   "metadata": {},
   "outputs": [
    {
     "data": {
      "text/plain": [
       "(0, 100)"
      ]
     },
     "execution_count": 7,
     "metadata": {},
     "output_type": "execute_result"
    },
    {
     "data": {
      "image/png": "[encoded data removed]",
      "text/plain": [
       "<Figure size 648x504 with 1 Axes>"
      ]
     },
     "metadata": {
      "filenames": {
       "image/png": "/home/lesteve/dev/scikit-learn-mooc/jupyter-book/_build/jupyter_execute/dev_features_importance_19_1.png"
      },
      "needs_background": "light"
     },
     "output_type": "display_data"
    }
   ],
   "source": [
    "X_train.std(axis=0).plot(kind='barh', figsize=(9, 7))\n",
    "plt.title('Features std. dev.')\n",
    "plt.subplots_adjust(left=.3)\n",
    "plt.xlim((0, 100))"
   ]
  },
  {
   "cell_type": "markdown",
   "metadata": {},
   "source": [
    "So before any interpretation, we need to scale each column (removing the mean\n",
    "and scaling the variance to 1)."
   ]
  },
  {
   "cell_type": "code",
   "execution_count": 8,
   "metadata": {},
   "outputs": [
    {
     "name": "stdout",
     "output_type": "stream",
     "text": [
      "model score on training data: 0.6079822261145077\n",
      "model score on testing data: 0.6015989882624492\n"
     ]
    }
   ],
   "source": [
    "from sklearn.pipeline import make_pipeline\n",
    "from sklearn.preprocessing import StandardScaler\n",
    "\n",
    "model = make_pipeline(StandardScaler(), RidgeCV())\n",
    "\n",
    "model.fit(X_train, y_train)\n",
    "\n",
    "print(f'model score on training data: {model.score(X_train, y_train)}')\n",
    "print(f'model score on testing data: {model.score(X_test, y_test)}')"
   ]
  },
  {
   "cell_type": "code",
   "execution_count": 9,
   "metadata": {},
   "outputs": [
    {
     "data": {
      "image/png": "[encoded data removed]",
      "text/plain": [
       "<Figure size 648x504 with 1 Axes>"
      ]
     },
     "metadata": {
      "filenames": {
       "image/png": "/home/lesteve/dev/scikit-learn-mooc/jupyter-book/_build/jupyter_execute/dev_features_importance_22_0.png"
      },
      "needs_background": "light"
     },
     "output_type": "display_data"
    }
   ],
   "source": [
    "coefs = pd.DataFrame(\n",
    "   model[1].coef_,\n",
    "   columns=['Coefficients'], index=X_train.columns\n",
    ")\n",
    "\n",
    "coefs.plot(kind='barh', figsize=(9, 7))\n",
    "plt.title('Ridge model')\n",
    "plt.axvline(x=0, color='.5')\n",
    "plt.subplots_adjust(left=.3)"
   ]
  },
  {
   "cell_type": "markdown",
   "metadata": {},
   "source": [
    "Now that the coefficients have been scaled, we can safely compare them.\n",
    "\n",
    "The median income feature, with longitude and latitude are the three\n",
    "variables that most influence the model.\n",
    "\n",
    "The plot above tells us about dependencies between a specific feature and the\n",
    "target when all other features remain constant, i.e., conditional\n",
    "dependencies. An increase of the `HouseAge` will induce an increase of the\n",
    "price when all other features remain constant. On the contrary, an increase\n",
    "of the average rooms will induce an decrease of the price when all other\n",
    "features remain constant."
   ]
  },
  {
   "cell_type": "markdown",
   "metadata": {},
   "source": [
    "### Checking the variability of the coefficients"
   ]
  },
  {
   "cell_type": "markdown",
   "metadata": {},
   "source": [
    "We can check the coefficient variability through cross-validation: it is a\n",
    "form of data perturbation.\n",
    "\n",
    "If coefficients vary significantly when changing the input dataset their\n",
    "robustness is not guaranteed, and they should probably be interpreted with\n",
    "caution."
   ]
  },
  {
   "cell_type": "code",
   "execution_count": 10,
   "metadata": {},
   "outputs": [
    {
     "data": {
      "image/png": "[encoded data removed]",
      "text/plain": [
       "<Figure size 648x504 with 1 Axes>"
      ]
     },
     "metadata": {
      "filenames": {
       "image/png": "/home/lesteve/dev/scikit-learn-mooc/jupyter-book/_build/jupyter_execute/dev_features_importance_26_0.png"
      },
      "needs_background": "light"
     },
     "output_type": "display_data"
    }
   ],
   "source": [
    "from sklearn.model_selection import cross_validate\n",
    "from sklearn.model_selection import RepeatedKFold\n",
    "\n",
    "cv_model = cross_validate(\n",
    "   model, X_with_rnd_feat, y, cv=RepeatedKFold(n_splits=5, n_repeats=5),\n",
    "   return_estimator=True, n_jobs=-1\n",
    ")\n",
    "coefs = pd.DataFrame(\n",
    "   [model[1].coef_\n",
    "    for model in cv_model['estimator']],\n",
    "   columns=X_with_rnd_feat.columns\n",
    ")\n",
    "plt.figure(figsize=(9, 7))\n",
    "sns.swarmplot(data=coefs, orient='h', color='k', alpha=0.5)\n",
    "# sns.boxplot(data=coefs, orient='h', color='cyan', saturation=0.5)\n",
    "plt.axvline(x=0, color='.5')\n",
    "plt.xlabel('Coefficient importance')\n",
    "plt.title('Coefficient importance and its variability')\n",
    "plt.subplots_adjust(left=.3)"
   ]
  },
  {
   "cell_type": "markdown",
   "metadata": {},
   "source": [
    "Every coefficient looks pretty stable, which mean that different Ridge model\n",
    "put almost the same weight to the same feature."
   ]
  },
  {
   "cell_type": "markdown",
   "metadata": {},
   "source": [
    "### Linear models with sparse coefficients (Lasso)"
   ]
  },
  {
   "cell_type": "markdown",
   "metadata": {},
   "source": [
    "In order to illustrate feature selection with a L1 penalty, let's fit a Lasso\n",
    "model with a strong regularization parameters `alpha`"
   ]
  },
  {
   "cell_type": "code",
   "execution_count": 11,
   "metadata": {},
   "outputs": [
    {
     "name": "stdout",
     "output_type": "stream",
     "text": [
      "model score on training data: 0.5599556353946504\n",
      "model score on testing data: 0.5733210993165778\n"
     ]
    }
   ],
   "source": [
    "from sklearn.linear_model import Lasso\n",
    "\n",
    "model = make_pipeline(StandardScaler(), Lasso(alpha=.04))\n",
    "\n",
    "model.fit(X_train, y_train)\n",
    "\n",
    "print(f'model score on training data: {model.score(X_train, y_train)}')\n",
    "print(f'model score on testing data: {model.score(X_test, y_test)}')"
   ]
  },
  {
   "cell_type": "code",
   "execution_count": 12,
   "metadata": {},
   "outputs": [
    {
     "data": {
      "image/png": "[encoded data removed]",
      "text/plain": [
       "<Figure size 648x504 with 1 Axes>"
      ]
     },
     "metadata": {
      "filenames": {
       "image/png": "/home/lesteve/dev/scikit-learn-mooc/jupyter-book/_build/jupyter_execute/dev_features_importance_31_0.png"
      },
      "needs_background": "light"
     },
     "output_type": "display_data"
    }
   ],
   "source": [
    "coefs = pd.DataFrame(\n",
    "   model[1].coef_,\n",
    "   columns=['Coefficients'], index=X_train.columns\n",
    ")\n",
    "\n",
    "coefs.plot(kind='barh', figsize=(9, 7))\n",
    "plt.title('Lasso model, strong regularization')\n",
    "plt.axvline(x=0, color='.5')\n",
    "plt.subplots_adjust(left=.3)"
   ]
  },
  {
   "cell_type": "markdown",
   "metadata": {},
   "source": [
    "Here the model score is a bit lower, because of the strong regularization.\n",
    "However, it has selectioned only 5 non negative coefficients to make its\n",
    "prediction."
   ]
  },
  {
   "cell_type": "markdown",
   "metadata": {},
   "source": [
    "### Lessons learned\n",
    "\n",
    "Coefficients must be scaled to the same unit of measure to retrieve feature\n",
    "importance, or comparing them.\n",
    "\n",
    "Coefficients in multivariate linear models represent the dependency between a\n",
    "given feature and the target, conditional on the other features.\n",
    "\n",
    "Correlated features might induce instabilities in the coefficients of linear\n",
    "models and their effects cannot be well teased apart.\n",
    "\n",
    "Inspecting coefficients across the folds of a cross-validation loop gives an\n",
    "idea of their stability."
   ]
  },
  {
   "cell_type": "markdown",
   "metadata": {},
   "source": [
    "## 2. RandomForest `feature_importances_`\n",
    "\n",
    "On some algorithms, there pre-exist some feature importance method,\n",
    "inherently built within the model. It is the case in RandomForrest models.\n",
    "Let's investigate the built-in `feature_importances_` attribute."
   ]
  },
  {
   "cell_type": "code",
   "execution_count": 13,
   "metadata": {},
   "outputs": [
    {
     "name": "stdout",
     "output_type": "stream",
     "text": [
      "model score on training data: 0.9747070070081303\n",
      "model score on testing data: 0.8207325666920497\n"
     ]
    }
   ],
   "source": [
    "from sklearn.ensemble import RandomForestRegressor\n",
    "\n",
    "model = RandomForestRegressor()\n",
    "\n",
    "model.fit(X_train, y_train)\n",
    "\n",
    "print(f'model score on training data: {model.score(X_train, y_train)}')\n",
    "print(f'model score on testing data: {model.score(X_test, y_test)}')"
   ]
  },
  {
   "cell_type": "markdown",
   "metadata": {},
   "source": [
    "Contrary to the testing set, the score on the training set is almost perfect,\n",
    "which means that our model is overfitting here."
   ]
  },
  {
   "cell_type": "code",
   "execution_count": 14,
   "metadata": {},
   "outputs": [],
   "source": [
    "importances = model.feature_importances_"
   ]
  },
  {
   "cell_type": "markdown",
   "metadata": {},
   "source": [
    "The importance of a feature is basically: how much this feature is used in\n",
    "each tree of the forest. Formally, it is computed as the (normalized) total\n",
    "reduction of the criterion brought by that feature."
   ]
  },
  {
   "cell_type": "code",
   "execution_count": 15,
   "metadata": {},
   "outputs": [
    {
     "data": {
      "image/png": "[encoded data removed]",
      "text/plain": [
       "<Figure size 432x288 with 1 Axes>"
      ]
     },
     "metadata": {
      "filenames": {
       "image/png": "/home/lesteve/dev/scikit-learn-mooc/jupyter-book/_build/jupyter_execute/dev_features_importance_39_0.png"
      },
      "needs_background": "light"
     },
     "output_type": "display_data"
    }
   ],
   "source": [
    "indices = np.argsort(importances)\n",
    "\n",
    "fig, ax = plt.subplots()\n",
    "ax.barh(range(len(importances)), importances[indices])\n",
    "ax.set_yticks(range(len(importances)))\n",
    "_ = ax.set_yticklabels(np.array(X_train.columns)[indices])"
   ]
  },
  {
   "cell_type": "markdown",
   "metadata": {},
   "source": [
    "Median income is still the most important feature.\n",
    "\n",
    "It also has a small bias toward high cardinality features, such as the noisy\n",
    "feature `rnd_num`, which are here predicted having .07 importance, more than\n",
    "`HouseAge` (which has low cardinality)."
   ]
  },
  {
   "cell_type": "markdown",
   "metadata": {},
   "source": [
    "## 3. Feature importance by permutation\n",
    "\n",
    "We introduce here a new technique to evaluate the feature importance of any\n",
    "given fitted model. It basically shuffles a feature and sees how the model\n",
    "changes its prediction. Thus, the change in prediction will be correspond to\n",
    "the feature importance."
   ]
  },
  {
   "cell_type": "code",
   "execution_count": 16,
   "metadata": {},
   "outputs": [],
   "source": [
    "# Any model could be used here\n",
    "\n",
    "model = RandomForestRegressor()\n",
    "# model = make_pipeline(StandardScaler(),\n",
    "#                       RidgeCV())"
   ]
  },
  {
   "cell_type": "code",
   "execution_count": 17,
   "metadata": {},
   "outputs": [
    {
     "name": "stdout",
     "output_type": "stream",
     "text": [
      "model score on training data: 0.9746303014141642\n",
      "model score on testing data: 0.820439473546773\n"
     ]
    }
   ],
   "source": [
    "model.fit(X_train, y_train)\n",
    "\n",
    "print(f'model score on training data: {model.score(X_train, y_train)}')\n",
    "print(f'model score on testing data: {model.score(X_test, y_test)}')"
   ]
  },
  {
   "cell_type": "markdown",
   "metadata": {},
   "source": [
    "The score on the test set is .81, so feature importance shall be relevant\n",
    "here for this model."
   ]
  },
  {
   "cell_type": "markdown",
   "metadata": {},
   "source": [
    "### Feature importance"
   ]
  },
  {
   "cell_type": "markdown",
   "metadata": {},
   "source": [
    "Lets compute the feature importance for a given feature, say the `MedInc`\n",
    "feature.\n",
    "\n",
    "For that, we will shuffle this specific feature, keeping the other feature as\n",
    "is, and run our same model (already fitted) to predict the outcome. The\n",
    "decrease of the score shall indicate how the model had used this feature to\n",
    "predict the target. The permutation feature importance is defined to be the\n",
    "decrease in a model score when a single feature value is randomly shuffled\n",
    "\n",
    "For instance, if the feature is crucial for the model, the outcome would also\n",
    "be permuted (just as the feature), thus the score would be close to zero.\n",
    "Afterward, the feature importance is the decrease in score. So in that case,\n",
    "the feature importance would be close to the score.\n",
    "\n",
    "On the contrary, if the feature is not used by the model, the score shall\n",
    "remain the same, thus the feature importance will be close to 0."
   ]
  },
  {
   "cell_type": "code",
   "execution_count": 18,
   "metadata": {},
   "outputs": [
    {
     "name": "stdout",
     "output_type": "stream",
     "text": [
      "feature importance of \"MedInc\" on train set is0.829\n"
     ]
    }
   ],
   "source": [
    "def get_score_after_permutation(model, X, y, curr_feat):\n",
    "    \"\"\" return the score of model when curr_feat is permuted \"\"\"\n",
    "\n",
    "    X_permuted = X.copy()\n",
    "    col_idx = list(X.columns).index(curr_feat)\n",
    "    # permute one column\n",
    "    X_permuted.iloc[:, col_idx] = np.random.permutation(\n",
    "        X_permuted[curr_feat].values)\n",
    "\n",
    "    permuted_score = model.score(X_permuted, y)\n",
    "    return permuted_score\n",
    "\n",
    "\n",
    "def get_feature_importance(model, X, y, curr_feat):\n",
    "    \"\"\" compare the score when curr_feat is permuted \"\"\"\n",
    "\n",
    "    baseline_score_train = model.score(X, y)\n",
    "    permuted_score_train = get_score_after_permutation(model, X, y, curr_feat)\n",
    "\n",
    "    # feature importance is the difference between the two scores\n",
    "    feature_importance = baseline_score_train - permuted_score_train\n",
    "    return feature_importance\n",
    "\n",
    "\n",
    "curr_feat = 'MedInc'\n",
    "\n",
    "feature_importance = get_feature_importance(model, X_train, y_train, curr_feat)\n",
    "print(f'feature importance of \"{curr_feat}\" on train set is'\n",
    "      f'{feature_importance:.3}')"
   ]
  },
  {
   "cell_type": "markdown",
   "metadata": {},
   "source": [
    "Since there are some randomness, it is advice to run multiple times and\n",
    "inspect the mean and the standard deviation of the feature importance"
   ]
  },
  {
   "cell_type": "code",
   "execution_count": 19,
   "metadata": {},
   "outputs": [
    {
     "name": "stdout",
     "output_type": "stream",
     "text": [
      "feature importance of \"MedInc\" on train set is 0.834 +/- 0.00962\n"
     ]
    }
   ],
   "source": [
    "n_repeats = 10\n",
    "\n",
    "list_feature_importance = []\n",
    "for n_round in range(n_repeats):\n",
    "    list_feature_importance.append(\n",
    "        get_feature_importance(model, X_train, y_train, curr_feat))\n",
    "\n",
    "print(\n",
    "    f'feature importance of \"{curr_feat}\" on train set is '\n",
    "    f'{np.mean(list_feature_importance):.3} '\n",
    "    f'+/- {np.std(list_feature_importance):.3}')"
   ]
  },
  {
   "cell_type": "markdown",
   "metadata": {},
   "source": [
    "0.86 over .97 is very relevant (note the R2 score could go below 0). So we\n",
    "can imagine our model relies heavily on this feature to predict the class.\n",
    "We can now compute the feature permutation importance for all the features"
   ]
  },
  {
   "cell_type": "code",
   "execution_count": 20,
   "metadata": {},
   "outputs": [],
   "source": [
    "def permutation_importance(model, X, y, n_repeats=10):\n",
    "    \"\"\"Calculate importance score for each feature.\"\"\"\n",
    "\n",
    "    importances = []\n",
    "    for curr_feat in X.columns:\n",
    "        list_feature_importance = []\n",
    "        for n_round in range(n_repeats):\n",
    "            list_feature_importance.append(\n",
    "                get_feature_importance(model, X, y, curr_feat))\n",
    "\n",
    "        importances.append(list_feature_importance)\n",
    "\n",
    "    return {'importances_mean': np.mean(importances, axis=1),\n",
    "            'importances_std': np.std(importances, axis=1),\n",
    "            'importances': importances}\n",
    "\n",
    "# This function could directly be access from sklearn\n",
    "# from sklearn.inspection import permutation_importance"
   ]
  },
  {
   "cell_type": "code",
   "execution_count": 21,
   "metadata": {},
   "outputs": [],
   "source": [
    "def plot_importantes_features(perm_importance_result, feat_name):\n",
    "    \"\"\" bar plot the feature importance \"\"\"\n",
    "\n",
    "    fig, ax = plt.subplots()\n",
    "\n",
    "    indices = perm_importance_result['importances_mean'].argsort()\n",
    "    plt.barh(range(len(indices)),\n",
    "             perm_importance_result['importances_mean'][indices],\n",
    "             xerr=perm_importance_result['importances_std'][indices])\n",
    "\n",
    "    ax.set_yticks(range(len(indices)))\n",
    "    _ = ax.set_yticklabels(feat_name[indices])"
   ]
  },
  {
   "cell_type": "markdown",
   "metadata": {},
   "source": [
    "Let's compute the feature importance by permutation on the training data."
   ]
  },
  {
   "cell_type": "code",
   "execution_count": 22,
   "metadata": {},
   "outputs": [
    {
     "data": {
      "image/png": "[encoded data removed]",
      "text/plain": [
       "<Figure size 432x288 with 1 Axes>"
      ]
     },
     "metadata": {
      "filenames": {
       "image/png": "/home/lesteve/dev/scikit-learn-mooc/jupyter-book/_build/jupyter_execute/dev_features_importance_54_0.png"
      },
      "needs_background": "light"
     },
     "output_type": "display_data"
    }
   ],
   "source": [
    "perm_importance_result_train = permutation_importance(\n",
    "    model, X_train, y_train, n_repeats=10)\n",
    "\n",
    "plot_importantes_features(perm_importance_result_train, X_train.columns)"
   ]
  },
  {
   "cell_type": "markdown",
   "metadata": {},
   "source": [
    "We see again that the feature `MedInc`, `Latitude` and `Longitude` are very\n",
    "important for the model.\n",
    "\n",
    "We note that our random variable `rnd_num` is now very less important than\n",
    "latitude. Indeed, the feature importance build-in in RandomForest has bias\n",
    "for continuous data, such as `AveOccup` and `rnd_num`.\n",
    "\n",
    "However, the model still uses these `rnd_num` feature to compute the output.\n",
    "It is in line with the overfitting we had noticed between the train and test\n",
    "score."
   ]
  },
  {
   "cell_type": "markdown",
   "metadata": {},
   "source": [
    "### discussion\n",
    "\n",
    "1. For correlated feature, the permutation could give non realistic sample\n",
    "   (e.g. nb of bedrooms higher than the number of rooms)\n",
    "2. It is unclear whether you should use training or testing data to compute\n",
    "   the feature importance.\n",
    "3. Note that dropping a column and fitting a new model will not allow to\n",
    "   analyse the feature importance for a specific model, since a *new* model\n",
    "   will be fitted."
   ]
  },
  {
   "cell_type": "markdown",
   "metadata": {},
   "source": [
    "# Take Away"
   ]
  },
  {
   "cell_type": "markdown",
   "metadata": {},
   "source": [
    "* One could directly interpret the coefficient in linear model (if the\n",
    "  feature have been scaled first)\n",
    "* Model like RandomForest have built-in feature importance\n",
    "* `permutation_importance` gives feature importance by permutation for any\n",
    "  fitted model"
   ]
  }
 ],
 "metadata": {
  "jupytext": {
   "text_representation": {
    "extension": ".md",
    "format_name": "myst",
    "format_version": "0.12",
    "jupytext_version": "1.5.2"
   }
  },
  "kernelspec": {
   "display_name": "Python 3",
   "language": "python",
   "name": "python3"
  },
  "language_info": {
   "codemirror_mode": {
    "name": "ipython",
    "version": 3
   },
   "file_extension": ".py",
   "mimetype": "text/x-python",
   "name": "python",
   "nbconvert_exporter": "python",
   "pygments_lexer": "ipython3",
   "version": "3.7.4"
  },
  "source_map": [
   12,
   24,
   28,
   35,
   41,
   54,
   59,
   67,
   72,
   76,
   80,
   88,
   93,
   97,
   109,
   118,
   124,
   136,
   152,
   161,
   166,
   171,
   183,
   193,
   207,
   211,
   220,
   240,
   245,
   249,
   254,
   265,
   275,
   281,
   297,
   305,
   314,
   319,
   321,
   327,
   334,
   342,
   351,
   359,
   364,
   369,
   373,
   392,
   422,
   427,
   439,
   445,
   466,
   479,
   483,
   488,
   501,
   513,
   518
  ]
 },
 "nbformat": 4,
 "nbformat_minor": 4
}